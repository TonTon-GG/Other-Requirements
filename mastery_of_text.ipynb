{
 "cells": [
  {
   "cell_type": "code",
   "execution_count": 3,
   "id": "fddc4e86-8895-4feb-ba8f-f97f10b9d146",
   "metadata": {},
   "outputs": [
    {
     "name": "stdout",
     "output_type": "stream",
     "text": [
      "No. of lines: 99968\n",
      "No. of words: 667621\n",
      "No. of occurrences of 'apostle': 113\n",
      "Most common word: the\n"
     ]
    }
   ],
   "source": [
    "from urllib.request import urlopen\n",
    "\n",
    "def save_text(url):\n",
    "  response = urlopen(url)\n",
    "  pg10 = response.read().decode('utf-8')\n",
    "  return pg10\n",
    "\n",
    "pg10 = save_text(\"https://www.gutenberg.org/cache/epub/10/pg10.txt\")\n",
    "\n",
    "def count_total_lines(text):\n",
    "  return len(text.splitlines())\n",
    "\n",
    "def count_total_words(text):\n",
    "    words = [word.strip().lower() for word in text.split() if word.isalpha()]\n",
    "    return len(words)\n",
    "\n",
    "def count_word_occurrences(text, word):\n",
    "  word_count = 0\n",
    "  for w in text.lower().split():\n",
    "    if w.startswith(word.lower()):\n",
    "      word_count += 1\n",
    "  return word_count\n",
    "\n",
    "def find_most_common_word(text):\n",
    "  word_counts = {}\n",
    "  for word in text.lower().split():\n",
    "    if word in word_counts:\n",
    "      word_counts[word] += 1\n",
    "    else:\n",
    "      word_counts[word] = 1\n",
    "\n",
    "  most_common_word = max(word_counts, key=word_counts.get)\n",
    "  return most_common_word\n",
    "\n",
    "number_of_lines = count_total_lines(pg10)\n",
    "print(\"No. of lines:\", number_of_lines)\n",
    "\n",
    "number_of_words = count_total_words(pg10)\n",
    "print(\"No. of words:\", number_of_words)\n",
    "\n",
    "apostle_count = count_word_occurrences(pg10, \"apostle\")\n",
    "print(\"No. of occurrences of 'apostle':\", apostle_count)\n",
    "\n",
    "most_common_word = find_most_common_word(pg10)\n",
    "print(\"Most common word:\", most_common_word)"
   ]
  }
 ],
 "metadata": {
  "kernelspec": {
   "display_name": "Python 3 (ipykernel)",
   "language": "python",
   "name": "python3"
  },
  "language_info": {
   "codemirror_mode": {
    "name": "ipython",
    "version": 3
   },
   "file_extension": ".py",
   "mimetype": "text/x-python",
   "name": "python",
   "nbconvert_exporter": "python",
   "pygments_lexer": "ipython3",
   "version": "3.11.7"
  }
 },
 "nbformat": 4,
 "nbformat_minor": 5
}
